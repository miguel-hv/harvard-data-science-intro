{
 "cells": [
  {
   "cell_type": "code",
   "execution_count": 1,
   "id": "6f454569",
   "metadata": {},
   "outputs": [],
   "source": [
    "# Hypothesis testing in Linear Regression \n",
    "\n",
    "import numpy as np\n",
    "import pandas as pd\n",
    "import statsmodels.api as sm\n",
    "import matplotlib.pyplot as plt"
   ]
  },
  {
   "cell_type": "code",
   "execution_count": 2,
   "id": "48712a5b",
   "metadata": {},
   "outputs": [],
   "source": [
    "# 1. Generate synthetic data\n",
    "np.random.seed(42)\n",
    "n = 100\n",
    "\n",
    "X1 = np.random.normal(0, 1, n)          # Predictor 1\n",
    "X2 = np.random.normal(0, 1, n)          # Predictor 2\n",
    "noise = np.random.normal(0, 1, n)       # Random error\n",
    "\n",
    "# True relationship: Y = 3 + 2*X1 + 0*X2 + noise\n",
    "Y = 3 + 2*X1 + 0*X2 + noise"
   ]
  },
  {
   "cell_type": "code",
   "execution_count": 3,
   "id": "8fc2f13e",
   "metadata": {},
   "outputs": [],
   "source": [
    "# 2. Prepare data for regression\n",
    "X = np.column_stack((X1, X2))\n",
    "X = sm.add_constant(X)   # add intercept\n",
    "model = sm.OLS(Y, X).fit()"
   ]
  },
  {
   "cell_type": "code",
   "execution_count": 4,
   "id": "88c58d3a",
   "metadata": {},
   "outputs": [
    {
     "name": "stdout",
     "output_type": "stream",
     "text": [
      "                            OLS Regression Results                            \n",
      "==============================================================================\n",
      "Dep. Variable:                      y   R-squared:                       0.783\n",
      "Model:                            OLS   Adj. R-squared:                  0.779\n",
      "Method:                 Least Squares   F-statistic:                     175.3\n",
      "Date:                Fri, 22 Aug 2025   Prob (F-statistic):           6.19e-33\n",
      "Time:                        11:39:49   Log-Likelihood:                -147.62\n",
      "No. Observations:                 100   AIC:                             301.2\n",
      "Df Residuals:                      97   BIC:                             309.1\n",
      "Df Model:                           2                                         \n",
      "Covariance Type:            nonrobust                                         \n",
      "==============================================================================\n",
      "                 coef    std err          t      P>|t|      [0.025      0.975]\n",
      "------------------------------------------------------------------------------\n",
      "const          3.0886      0.108     28.537      0.000       2.874       3.303\n",
      "x1             2.2261      0.120     18.533      0.000       1.988       2.464\n",
      "x2            -0.0123      0.114     -0.107      0.915      -0.239       0.215\n",
      "==============================================================================\n",
      "Omnibus:                        3.125   Durbin-Watson:                   2.220\n",
      "Prob(Omnibus):                  0.210   Jarque-Bera (JB):                3.080\n",
      "Skew:                           0.108   Prob(JB):                        0.214\n",
      "Kurtosis:                       3.832   Cond. No.                         1.23\n",
      "==============================================================================\n",
      "\n",
      "Notes:\n",
      "[1] Standard Errors assume that the covariance matrix of the errors is correctly specified.\n"
     ]
    }
   ],
   "source": [
    "# 3. Show regression summary (includes hypothesis tests for betas)\n",
    "print(model.summary())\n"
   ]
  },
  {
   "cell_type": "code",
   "execution_count": 5,
   "id": "dcb01a21",
   "metadata": {},
   "outputs": [
    {
     "name": "stdout",
     "output_type": "stream",
     "text": [
      "\n",
      "P-values for coefficients:\n",
      "[5.55083025e-49 1.22439863e-33 9.14747577e-01]\n"
     ]
    }
   ],
   "source": [
    "# 4. Extract p-values for hypothesis testing\n",
    "p_values = model.pvalues\n",
    "print(\"\\nP-values for coefficients:\")\n",
    "print(p_values)"
   ]
  },
  {
   "cell_type": "code",
   "execution_count": 8,
   "id": "286b5e99",
   "metadata": {},
   "outputs": [
    {
     "name": "stdout",
     "output_type": "stream",
     "text": [
      "\n",
      "Hypothesis testing results (alpha = 0.05):\n",
      "Reject H0: const is statistically significant (p = 0.0000)\n",
      "Reject H0: x1 is statistically significant (p = 0.0000)\n",
      "Fail to reject H0: x2 is NOT statistically significant (p = 0.9147)\n"
     ]
    }
   ],
   "source": [
    "# 5. Simple interpretation\n",
    "alpha = 0.05  # significance level\n",
    "print(\"\\nHypothesis testing results (alpha = 0.05):\")\n",
    "coef_names = [\"const\", \"x1\", \"x2\"]\n",
    "\n",
    "for coef, p in zip(coef_names, p_values):\n",
    "    if p < alpha:\n",
    "        print(f\"Reject H0: {coef} is statistically significant (p = {p:.4f})\")\n",
    "    else:\n",
    "        print(f\"Fail to reject H0: {coef} is NOT statistically significant (p = {p:.4f})\")"
   ]
  },
  {
   "cell_type": "code",
   "execution_count": 12,
   "id": "bb122c2a",
   "metadata": {},
   "outputs": [
    {
     "data": {
      "image/png": "[encoded data removed]",
      "text/plain": [
       "<Figure size 640x480 with 1 Axes>"
      ]
     },
     "metadata": {},
     "output_type": "display_data"
    }
   ],
   "source": [
    "# 6. Visualization: Coefficient estimates with 95% CI\n",
    "# Get params and confidence intervals\n",
    "params = model.params\n",
    "conf_intervals = model.conf_int(alpha=0.05)\n",
    "\n",
    "# Build names depending on number of coefficients\n",
    "coef_names = [\"const\"] + [f\"x{i+1}\" for i in range(len(params)-1)]\n",
    "\n",
    "# Extract lower and upper bounds\n",
    "lower_bounds = conf_intervals[:, 0]\n",
    "upper_bounds = conf_intervals[:, 1]\n",
    "\n",
    "# Plot coefficients with error bars\n",
    "plt.errorbar(params, coef_names,\n",
    "             xerr=[params - lower_bounds, upper_bounds - params],\n",
    "             fmt='o', capsize=5, color=\"blue\")\n",
    "\n",
    "plt.axvline(x=0, color=\"red\", linestyle=\"--\")\n",
    "plt.title(\"Regression Coefficients with 95% Confidence Intervals\")\n",
    "plt.xlabel(\"Coefficient Estimate\")\n",
    "plt.ylabel(\"Predictors\")\n",
    "plt.show()"
   ]
  }
 ],
 "metadata": {
  "kernelspec": {
   "display_name": "project_test",
   "language": "python",
   "name": "python3"
  },
  "language_info": {
   "codemirror_mode": {
    "name": "ipython",
    "version": 3
   },
   "file_extension": ".py",
   "mimetype": "text/x-python",
   "name": "python",
   "nbconvert_exporter": "python",
   "pygments_lexer": "ipython3",
   "version": "3.13.5"
  }
 },
 "nbformat": 4,
 "nbformat_minor": 5
}
