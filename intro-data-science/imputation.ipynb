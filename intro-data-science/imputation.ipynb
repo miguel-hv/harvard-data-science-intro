{
 "cells": [
  {
   "cell_type": "code",
   "execution_count": 1,
   "id": "39c5a7c0",
   "metadata": {},
   "outputs": [],
   "source": [
    "import numpy as np\n",
    "import pandas as pd\n",
    "import matplotlib.pyplot as plt\n",
    "from sklearn.datasets import load_iris\n",
    "from sklearn.model_selection import train_test_split\n",
    "from sklearn.linear_model import LogisticRegression\n",
    "from sklearn.impute import SimpleImputer\n",
    "from sklearn.metrics import accuracy_score, classification_report"
   ]
  },
  {
   "cell_type": "code",
   "execution_count": 2,
   "id": "98a0e351",
   "metadata": {},
   "outputs": [],
   "source": [
    "# 1. Load dataset\n",
    "data = load_iris()\n",
    "X, y = data.data, data.target\n",
    "feature_names = data.feature_names"
   ]
  },
  {
   "cell_type": "code",
   "execution_count": 3,
   "id": "ad77b3ff",
   "metadata": {},
   "outputs": [
    {
     "name": "stdout",
     "output_type": "stream",
     "text": [
      "Missing values per feature:\n",
      "sepal length (cm)    23\n",
      "sepal width (cm)     15\n",
      "petal length (cm)    18\n",
      "petal width (cm)     16\n",
      "dtype: int64\n"
     ]
    }
   ],
   "source": [
    "# 2. Introduce some missing values artificially\n",
    "rng = np.random.RandomState(42)\n",
    "mask = rng.rand(*X.shape) < 0.1  # ~10% missing\n",
    "X_missing = X.copy()\n",
    "X_missing[mask] = np.nan\n",
    "\n",
    "print(f\"Missing values per feature:\\n{pd.DataFrame(X_missing, columns=feature_names).isnull().sum()}\")"
   ]
  },
  {
   "cell_type": "code",
   "execution_count": 4,
   "id": "7c4e9300",
   "metadata": {},
   "outputs": [],
   "source": [
    "# 3. Train/test split\n",
    "X_train, X_test, y_train, y_test = train_test_split(X_missing, y, test_size=0.3, random_state=42)"
   ]
  },
  {
   "cell_type": "code",
   "execution_count": 6,
   "id": "9c678718",
   "metadata": {},
   "outputs": [
    {
     "name": "stdout",
     "output_type": "stream",
     "text": [
      "\n",
      "Strategy: mean\n",
      "Accuracy: 0.8888888888888888\n",
      "Classification Report:\n",
      "               precision    recall  f1-score   support\n",
      "\n",
      "           0       1.00      1.00      1.00        19\n",
      "           1       0.79      0.85      0.81        13\n",
      "           2       0.83      0.77      0.80        13\n",
      "\n",
      "    accuracy                           0.89        45\n",
      "   macro avg       0.87      0.87      0.87        45\n",
      "weighted avg       0.89      0.89      0.89        45\n",
      "\n",
      "\n",
      "Strategy: median\n",
      "Accuracy: 0.9111111111111111\n",
      "Classification Report:\n",
      "               precision    recall  f1-score   support\n",
      "\n",
      "           0       1.00      1.00      1.00        19\n",
      "           1       0.80      0.92      0.86        13\n",
      "           2       0.91      0.77      0.83        13\n",
      "\n",
      "    accuracy                           0.91        45\n",
      "   macro avg       0.90      0.90      0.90        45\n",
      "weighted avg       0.92      0.91      0.91        45\n",
      "\n",
      "\n",
      "Strategy: most_frequent\n",
      "Accuracy: 0.8222222222222222\n",
      "Classification Report:\n",
      "               precision    recall  f1-score   support\n",
      "\n",
      "           0       1.00      1.00      1.00        19\n",
      "           1       0.73      0.62      0.67        13\n",
      "           2       0.67      0.77      0.71        13\n",
      "\n",
      "    accuracy                           0.82        45\n",
      "   macro avg       0.80      0.79      0.79        45\n",
      "weighted avg       0.82      0.82      0.82        45\n",
      "\n"
     ]
    }
   ],
   "source": [
    "# 4. Try different imputation strategies\n",
    "strategies = [\"mean\", \"median\", \"most_frequent\"]\n",
    "results = []\n",
    "\n",
    "for strategy in strategies:\n",
    "    imputer = SimpleImputer(strategy=strategy)\n",
    "    \n",
    "    X_train_imputed = imputer.fit_transform(X_train)\n",
    "    X_test_imputed = imputer.transform(X_test)\n",
    "\n",
    "    model = LogisticRegression(max_iter=500)\n",
    "    model.fit(X_train_imputed, y_train)\n",
    "    y_pred = model.predict(X_test_imputed)\n",
    "\n",
    "    acc = accuracy_score(y_test, y_pred)\n",
    "    results.append((strategy, acc))\n",
    "    \n",
    "    print(f\"\\nStrategy: {strategy}\")\n",
    "    print(\"Accuracy:\", acc)\n",
    "    print(\"Classification Report:\\n\", classification_report(y_test, y_pred))\n"
   ]
  }
 ],
 "metadata": {
  "kernelspec": {
   "display_name": "project_test",
   "language": "python",
   "name": "python3"
  },
  "language_info": {
   "codemirror_mode": {
    "name": "ipython",
    "version": 3
   },
   "file_extension": ".py",
   "mimetype": "text/x-python",
   "name": "python",
   "nbconvert_exporter": "python",
   "pygments_lexer": "ipython3",
   "version": "3.13.5"
  }
 },
 "nbformat": 4,
 "nbformat_minor": 5
}
