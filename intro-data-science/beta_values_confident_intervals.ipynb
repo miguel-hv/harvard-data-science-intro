{
 "cells": [
  {
   "cell_type": "code",
   "execution_count": 7,
   "id": "cef08ada",
   "metadata": {},
   "outputs": [],
   "source": [
    "import numpy as np\n",
    "import pandas as pd\n",
    "import matplotlib.pyplot as plt\n",
    "import statsmodels.api as sm"
   ]
  },
  {
   "cell_type": "code",
   "execution_count": 8,
   "id": "b68d2b58",
   "metadata": {},
   "outputs": [],
   "source": [
    "# Reproducibility\n",
    "np.random.seed(42)\n",
    "\n",
    "# Sample size\n",
    "n = 100\n",
    "\n",
    "# Predictors\n",
    "X1 = np.random.normal(0, 1, n)        # Normal predictor\n",
    "X2 = np.random.uniform(-2, 2, n)      # Uniform predictor"
   ]
  },
  {
   "cell_type": "code",
   "execution_count": 9,
   "id": "26c9231a",
   "metadata": {},
   "outputs": [],
   "source": [
    "# True relationship: Y = 3 + 2*X1 - 1*X2 + noise\n",
    "beta0, beta1, beta2 = 3, 2, -1\n",
    "noise = np.random.normal(0, 1, n)\n",
    "Y = beta0 + beta1*X1 + beta2*X2 + noise"
   ]
  },
  {
   "cell_type": "code",
   "execution_count": null,
   "id": "478f4599",
   "metadata": {},
   "outputs": [
    {
     "name": "stdout",
     "output_type": "stream",
     "text": [
      "                            OLS Regression Results                            \n",
      "==============================================================================\n",
      "Dep. Variable:                      y   R-squared:                       0.763\n",
      "Model:                            OLS   Adj. R-squared:                  0.758\n",
      "Method:                 Least Squares   F-statistic:                     155.8\n",
      "Date:                Wed, 20 Aug 2025   Prob (F-statistic):           5.07e-31\n",
      "Time:                        18:31:28   Log-Likelihood:                -150.44\n",
      "No. Observations:                 100   AIC:                             306.9\n",
      "Df Residuals:                      97   BIC:                             314.7\n",
      "Df Model:                           2                                         \n",
      "Covariance Type:            nonrobust                                         \n",
      "==============================================================================\n",
      "                 coef    std err          t      P>|t|      [0.025      0.975]\n",
      "------------------------------------------------------------------------------\n",
      "const          3.0368      0.111     27.264      0.000       2.816       3.258\n",
      "x1             1.9657      0.123     15.925      0.000       1.721       2.211\n",
      "x2            -0.9363      0.097     -9.626      0.000      -1.129      -0.743\n",
      "==============================================================================\n",
      "Omnibus:                        5.538   Durbin-Watson:                   2.057\n",
      "Prob(Omnibus):                  0.063   Jarque-Bera (JB):                5.722\n",
      "Skew:                           0.342   Prob(JB):                       0.0572\n",
      "Kurtosis:                       3.952   Cond. No.                         1.35\n",
      "==============================================================================\n",
      "\n",
      "Notes:\n",
      "[1] Standard Errors assume that the covariance matrix of the errors is correctly specified.\n"
     ]
    }
   ],
   "source": [
    "# 2. Fit linear regression using statsmodels\n",
    "X = np.column_stack((X1, X2))\n",
    "X = sm.add_constant(X)  # add intercept\n",
    "model = sm.OLS(Y, X).fit() #ordinary least squares regression\n",
    "\n",
    "print(model.summary())\n"
   ]
  },
  {
   "cell_type": "code",
   "execution_count": 13,
   "id": "7a246b6c",
   "metadata": {},
   "outputs": [
    {
     "data": {
      "image/png": "[encoded data removed]",
      "text/plain": [
       "<Figure size 800x500 with 1 Axes>"
      ]
     },
     "metadata": {},
     "output_type": "display_data"
    }
   ],
   "source": [
    "# 3. Plot confidence intervals for coefficients\n",
    "conf_int = model.conf_int()\n",
    "betas = model.params\n",
    "\n",
    "lower_error = betas - conf_int[:, 0]  # difference between beta and lower CI\n",
    "upper_error = conf_int[:, 1] - betas  # difference between upper CI and beta\n",
    "yerr = [lower_error, upper_error]\n",
    "\n",
    "plt.figure(figsize=(8,5))\n",
    "plt.errorbar(range(len(betas)), betas, \n",
    "             yerr=yerr, \n",
    "             fmt='o', capsize=5)\n",
    "plt.xticks(range(len(betas)), ['Intercept','X1','X2'])\n",
    "plt.axhline(0, color='red', linestyle='--')\n",
    "plt.title(\"Beta Estimates with 95% Confidence Intervals\")\n",
    "plt.show()"
   ]
  }
 ],
 "metadata": {
  "kernelspec": {
   "display_name": "project_test",
   "language": "python",
   "name": "python3"
  },
  "language_info": {
   "codemirror_mode": {
    "name": "ipython",
    "version": 3
   },
   "file_extension": ".py",
   "mimetype": "text/x-python",
   "name": "python",
   "nbconvert_exporter": "python",
   "pygments_lexer": "ipython3",
   "version": "3.13.5"
  }
 },
 "nbformat": 4,
 "nbformat_minor": 5
}
