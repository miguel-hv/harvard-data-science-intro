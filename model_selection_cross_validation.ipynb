{
 "cells": [
  {
   "cell_type": "code",
   "execution_count": 1,
   "id": "1af4fb52",
   "metadata": {},
   "outputs": [],
   "source": [
    "# IMPORTS\n",
    "import numpy as np\n",
    "import pandas as pd\n",
    "from itertools import combinations\n",
    "from sklearn.linear_model import Ridge\n",
    "from sklearn.model_selection import train_test_split, cross_val_score\n",
    "from sklearn.metrics import mean_squared_error\n",
    "from sklearn.preprocessing import StandardScaler"
   ]
  },
  {
   "cell_type": "code",
   "execution_count": 2,
   "id": "e88d8354",
   "metadata": {},
   "outputs": [],
   "source": [
    "df = pd.read_csv(\"advertising.csv\")\n",
    "X_all = df.drop(columns=\"Sales\")\n",
    "y = df[\"Sales\"]"
   ]
  },
  {
   "cell_type": "code",
   "execution_count": 3,
   "id": "57a28c95",
   "metadata": {},
   "outputs": [
    {
     "name": "stdout",
     "output_type": "stream",
     "text": [
      "\n",
      "--- Single validation split ---\n",
      "Alpha=0.01: MSE=4.402\n",
      "Alpha=0.1: MSE=4.402\n",
      "Alpha=1: MSE=4.407\n",
      "Alpha=10: MSE=4.535\n",
      "Alpha=100: MSE=8.658\n"
     ]
    }
   ],
   "source": [
    "# --- 1. SINGLE VALIDATION SPLIT ---\n",
    "# Train/validation split (no test set for now)\n",
    "X_train, X_val, y_train, y_val = train_test_split(X_all, y, test_size=0.2, random_state=0)\n",
    "\n",
    "# Example: try Ridge with different alpha values (hyperparameter)\n",
    "alphas = [0.01, 0.1, 1, 10, 100]\n",
    "single_split_results = {}\n",
    "\n",
    "scaler = StandardScaler()\n",
    "X_train_scaled = scaler.fit_transform(X_train)\n",
    "X_val_scaled = scaler.transform(X_val)\n",
    "\n",
    "for alpha in alphas:\n",
    "    model = Ridge(alpha=alpha)\n",
    "    model.fit(X_train_scaled, y_train)\n",
    "    y_pred = model.predict(X_val_scaled)\n",
    "    mse = mean_squared_error(y_val, y_pred)\n",
    "    single_split_results[alpha] = mse\n",
    "\n",
    "print(\"\\n--- Single validation split ---\")\n",
    "for alpha, mse in single_split_results.items():\n",
    "    print(f\"Alpha={alpha}: MSE={mse:.3f}\")\n"
   ]
  },
  {
   "cell_type": "code",
   "execution_count": 4,
   "id": "243d8e32",
   "metadata": {},
   "outputs": [
    {
     "name": "stdout",
     "output_type": "stream",
     "text": [
      "\n",
      "--- Cross-validation ---\n",
      "Alpha=0.01: CV MSE=3.073\n",
      "Alpha=0.1: CV MSE=3.073\n",
      "Alpha=1: CV MSE=3.073\n",
      "Alpha=10: CV MSE=3.151\n",
      "Alpha=100: CV MSE=6.442\n"
     ]
    }
   ],
   "source": [
    "#  --- 2. CROSS-VALIDATION ---\n",
    "cv_results = {}\n",
    "X_scaled = StandardScaler().fit_transform(X_all)\n",
    "\n",
    "for alpha in alphas:\n",
    "    model = Ridge(alpha=alpha)\n",
    "    scores = cross_val_score(model, X_scaled, y, scoring=\"neg_mean_squared_error\", cv=5)\n",
    "    mse_mean = -scores.mean()\n",
    "    cv_results[alpha] = mse_mean\n",
    "\n",
    "print(\"\\n--- Cross-validation ---\")\n",
    "for alpha, mse in cv_results.items():\n",
    "    print(f\"Alpha={alpha}: CV MSE={mse:.3f}\")"
   ]
  },
  {
   "cell_type": "code",
   "execution_count": 5,
   "id": "7c1429ed",
   "metadata": {},
   "outputs": [
    {
     "name": "stdout",
     "output_type": "stream",
     "text": [
      "\n",
      "--- Exhaustive search result ---\n",
      "Best features: ('TV', 'Radio') with CV MSE=3.012\n"
     ]
    }
   ],
   "source": [
    "# --- 3. EXHAUSTIVE SEARCH FOR FEATURE COMBINATIONS ---\n",
    "features = list(X_all.columns)\n",
    "best_combo = None\n",
    "best_mse = np.inf\n",
    "\n",
    "for r in range(1, len(features) + 1):\n",
    "    for combo in combinations(features, r):\n",
    "        X_combo = X_all[list(combo)]\n",
    "        scores = cross_val_score(Ridge(alpha=1), X_combo, y,\n",
    "                                 scoring=\"neg_mean_squared_error\", cv=5)\n",
    "        mse_mean = -scores.mean()\n",
    "        if mse_mean < best_mse:\n",
    "            best_mse = mse_mean\n",
    "            best_combo = combo\n",
    "\n",
    "print(\"\\n--- Exhaustive search result ---\")\n",
    "print(f\"Best features: {best_combo} with CV MSE={best_mse:.3f}\")\n"
   ]
  },
  {
   "cell_type": "code",
   "execution_count": 6,
   "id": "d94663b9",
   "metadata": {},
   "outputs": [
    {
     "name": "stdout",
     "output_type": "stream",
     "text": [
      "\n",
      "--- Greedy forward selection result ---\n",
      "Selected features: ['TV', 'Radio'] with CV MSE=3.012\n"
     ]
    }
   ],
   "source": [
    "# --- 4. GREEDY FORWARD SELECTION ---\n",
    "remaining_features = set(features)\n",
    "selected_features = []\n",
    "best_mse_greedy = np.inf\n",
    "\n",
    "while remaining_features:\n",
    "    candidate_mse = {}\n",
    "    for feat in remaining_features:\n",
    "        trial_feats = selected_features + [feat]\n",
    "        X_trial = X_all[trial_feats]\n",
    "        scores = cross_val_score(Ridge(alpha=1), X_trial, y,\n",
    "                                 scoring=\"neg_mean_squared_error\", cv=5)\n",
    "        mse_mean = -scores.mean()\n",
    "        candidate_mse[feat] = mse_mean\n",
    "    \n",
    "    best_feat = min(candidate_mse, key=candidate_mse.get)\n",
    "    if candidate_mse[best_feat] < best_mse_greedy:\n",
    "        selected_features.append(best_feat)\n",
    "        remaining_features.remove(best_feat)\n",
    "        best_mse_greedy = candidate_mse[best_feat]\n",
    "    else:\n",
    "        break  # no improvement, stop\n",
    "\n",
    "print(\"\\n--- Greedy forward selection result ---\")\n",
    "print(f\"Selected features: {selected_features} with CV MSE={best_mse_greedy:.3f}\")"
   ]
  }
 ],
 "metadata": {
  "kernelspec": {
   "display_name": "project_test",
   "language": "python",
   "name": "python3"
  },
  "language_info": {
   "codemirror_mode": {
    "name": "ipython",
    "version": 3
   },
   "file_extension": ".py",
   "mimetype": "text/x-python",
   "name": "python",
   "nbconvert_exporter": "python",
   "pygments_lexer": "ipython3",
   "version": "3.13.5"
  }
 },
 "nbformat": 4,
 "nbformat_minor": 5
}
